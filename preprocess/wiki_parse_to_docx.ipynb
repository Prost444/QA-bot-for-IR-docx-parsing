{
 "cells": [
  {
   "cell_type": "code",
   "execution_count": 27,
   "metadata": {},
   "outputs": [],
   "source": [
    "#%pip install wikitextparser\n",
    "\n",
    "import xml.etree.ElementTree as ET\n",
    "import wikitextparser as wtp\n",
    "from docx import Document\n",
    "from docx.enum.text import WD_ALIGN_PARAGRAPH\n",
    "from tqdm import tqdm\n",
    "import pandas as pd\n",
    "from heapq import heappush,heappop\n",
    "import os\n",
    "from concurrent.futures import ThreadPoolExecutor"
   ]
  },
  {
   "cell_type": "code",
   "execution_count": 2,
   "metadata": {},
   "outputs": [],
   "source": [
    "tree = ET.parse('ruwiki-20241201-pages-articles-multistream1.xml')\n",
    "root = tree.getroot()\n",
    "len(root)"
   ]
  },
  {
   "cell_type": "code",
   "execution_count": 3,
   "metadata": {},
   "outputs": [],
   "source": [
    "prefix = '{http://www.mediawiki.org/xml/export-0.11/}'"
   ]
  },
  {
   "cell_type": "code",
   "execution_count": null,
   "metadata": {},
   "outputs": [],
   "source": [
    "# Выходная папка\n",
    "output_dir = \"output\"\n",
    "\n",
    "if not os.path.exists(output_dir):\n",
    "\tos.makedirs(output_dir)\n",
    "\t"
   ]
  },
  {
   "cell_type": "code",
   "execution_count": null,
   "metadata": {},
   "outputs": [
    {
     "data": {
      "text/plain": [
       "xml.etree.ElementTree.Element"
      ]
     },
     "execution_count": 56,
     "metadata": {},
     "output_type": "execute_result"
    }
   ],
   "source": [
    "# Преобработка\n",
    "\n",
    "indexies = []\n",
    "\n",
    "pages = root.findall(f'{prefix}page')\n",
    "'''\n",
    "for i in range(len(pages)):\n",
    "\ttext = pages[i].find(f\"{prefix}revision\").find(f\"{prefix}text\").text\n",
    "\tif(text and text.find(\"{|\")):\n",
    "\t\tindexies.append(i)\n",
    "'''"
   ]
  },
  {
   "cell_type": "code",
   "execution_count": 52,
   "metadata": {},
   "outputs": [],
   "source": [
    "\n",
    "def parse_to_docx(parsed : wtp.WikiText, title : str, filename : str) -> None:\n",
    "\telements = []\n",
    "\n",
    "\tsections,tables,lists = parsed.get_sections(),parsed.get_tables(),parsed.get_lists()\n",
    "\n",
    "\tfor i in range(len(sections)):\n",
    "\t\theappush(elements,(sections[i].span[0],\"section\",i))\n",
    "\n",
    "\tfor i in range(len(tables)):\n",
    "\t\theappush(elements,(tables[i].span[0],\"table\",i))\n",
    "\n",
    "\tfor i in range(len(lists)):\n",
    "\t\theappush(elements,(lists[i].span[0],\"list\",i))\n",
    "\t\t\n",
    "\tdoc = Document()\n",
    "\tdoc.add_heading(f\"Содержимое страницы: {title}\", level = 1)\n",
    "\n",
    "\twhile elements:\n",
    "\t\telem = heappop(elements)\n",
    "\n",
    "\t\tif elem[1] == \"section\":\n",
    "\t\t\tsec = sections[elem[2]]\n",
    "\n",
    "\t\t\tif sec.title:\n",
    "\t\t\t\tsecText = wtp.remove_markup(sec.title).strip()\n",
    "\t\t\t\tif secText:\n",
    "\t\t\t\t\tdoc.add_heading(secText, level=sec.level)\n",
    "\t\tif elem[1] == \"table\":\n",
    "\t\t\ttbl = tables[elem[2]]\n",
    "\n",
    "\t\t\tdoc.add_paragraph(f\"Таблица: {tbl.caption}\").alignment = WD_ALIGN_PARAGRAPH.CENTER\n",
    "\n",
    "\t\t\tdata = tbl.data()\n",
    "\n",
    "\t\t\tif(len(data) <= 0):\n",
    "\t\t\t\tcontinue\n",
    "\n",
    "\t\t\ttable = doc.add_table(rows=len(data), cols=len(data[0]))\n",
    "\n",
    "\t\t\tfor i, row in enumerate(data):\n",
    "\t\t\t\tfor j, cell in enumerate(row):\n",
    "\t\t\t\t\tif not cell:\n",
    "\t\t\t\t\t\tcontinue\n",
    "\n",
    "\t\t\t\t\tcellText = wtp.remove_markup(cell).strip()\n",
    "\n",
    "\t\t\t\t\tif cellText:\n",
    "\t\t\t\t\t\ttable.cell(i, j).text = cellText\n",
    "\t\telif elem[1] == \"list\":\n",
    "\t\t\tlst = lists[elem[2]]\n",
    "\n",
    "\t\t\tfor item in lst.items:\n",
    "\t\t\t\titemText = wtp.remove_markup(item).strip()\n",
    "\n",
    "\t\t\t\tif itemText:\n",
    "\t\t\t\t\tdoc.add_paragraph(itemText, style=\"List Bullet\")\n",
    "\n",
    "\tdoc.save(os.path.join(output_dir, filename))\n",
    "\n",
    "def parse_to_markdown(parsed : wtp.WikiText, title : str, filename : str) -> None:\n",
    "\telements = []\n",
    "\n",
    "\tsections,tables,lists = parsed.get_sections(),parsed.get_tables(),parsed.get_lists()\n",
    "\n",
    "\tfor i in range(len(sections)):\n",
    "\t\theappush(elements,(sections[i].span[0],\"section\",i))\n",
    "\n",
    "\tfor i in range(len(tables)):\n",
    "\t\theappush(elements,(tables[i].span[0],\"table\",i))\n",
    "\n",
    "\tfor i in range(len(lists)):\n",
    "\t\theappush(elements,(lists[i].span[0],\"list\",i))\n",
    "\t\t\n",
    "\tdoc = Document()\n",
    "\tdoc.add_heading(f\"Содержимое страницы: {title}\", level = 1)\n",
    "\n",
    "\twith open(os.path.join(output_dir, filename),\"w\", encoding=\"utf-8\") as mdf:\n",
    "\t\tmdf.write(f\"# Содержимое страницы: {title}\")\n",
    "\t\t\n",
    "\t\twhile elements:\n",
    "\t\t\telem = heappop(elements)\n",
    "\n",
    "\t\t\tif elem[1] == \"section\":\n",
    "\t\t\t\tsec = sections[elem[2]]\n",
    "\n",
    "\t\t\t\tif sec.title:\n",
    "\t\t\t\t\tsecText = wtp.remove_markup(sec.title).strip()\n",
    "\t\t\t\t\tif secText:\n",
    "\t\t\t\t\t\tmdf.write(f\"{'#' * sec.level} {secText}\\n\")\n",
    "\t\t\tif elem[1] == \"table\":\n",
    "\t\t\t\ttbl = tables[elem[2]]\n",
    "\n",
    "\t\t\t\tdata = tbl.data()\n",
    "\n",
    "\t\t\t\tif(len(data) <= 0):\n",
    "\t\t\t\t\tcontinue\n",
    "\n",
    "\t\t\t\tdf = pd.DataFrame(data[1:],columns=data[0])\n",
    "\n",
    "\t\t\t\tfor i, row in enumerate(data):\n",
    "\t\t\t\t\tfor j, cell in enumerate(row):\n",
    "\t\t\t\t\t\tif not cell:\n",
    "\t\t\t\t\t\t\tcontinue\n",
    "\n",
    "\t\t\t\t\t\tcellText = wtp.remove_markup(cell).strip()\n",
    "\n",
    "\t\t\t\t\t\tif cellText:\n",
    "\t\t\t\t\t\t\tif i == 0:\n",
    "\t\t\t\t\t\t\t\tdf.columns.values[j] = cellText\n",
    "\t\t\t\t\t\t\telse:\n",
    "\t\t\t\t\t\t\t\tdf.at[i-1,df.columns[j]] = cellText\n",
    "\n",
    "\t\t\t\tmdf.write(df.to_markdown(index=False))\n",
    "\t\t\t\tmdf.write('\\n')\n",
    "\t\t\telif elem[1] == \"list\":\n",
    "\t\t\t\tlst = lists[elem[2]]\n",
    "\n",
    "\t\t\t\tfor item in lst.items:\n",
    "\t\t\t\t\titemText = wtp.remove_markup(item).strip()\n",
    "\n",
    "\t\t\t\t\tif itemText:\n",
    "\t\t\t\t\t\tmdf.write(f\"- {itemText}\\n\")\n",
    "\n",
    "\t\tmdf.write(\"\\n---\\n\")"
   ]
  },
  {
   "cell_type": "code",
   "execution_count": 58,
   "metadata": {},
   "outputs": [],
   "source": [
    "def parse_page(page : ET.Element) -> None:\n",
    "\ttitle = page.find(f\"{prefix}title\").text\n",
    "\n",
    "\tfilename = \"\".join(x for x in title if x.isalnum()) + \".md\"\n",
    "\n",
    "\t#if os.path.isfile(os.path.join(output_dir, filename)):\n",
    "\t#\treturn\n",
    "\n",
    "\ttext = page.find(f\"{prefix}revision\").find(f\"{prefix}text\").text #.split(\"\\n\")\n",
    "\n",
    "\tif not text:\n",
    "\t\treturn\n",
    "\n",
    "\tparsed = wtp.parse(text)\n",
    "\n",
    "\tparse_to_markdown(parsed,title,filename)"
   ]
  },
  {
   "cell_type": "code",
   "execution_count": 59,
   "metadata": {},
   "outputs": [
    {
     "name": "stderr",
     "output_type": "stream",
     "text": [
      "Обработка всех страниц:   0%|          | 401/130477 [00:29<2:40:23, 13.52it/s]\n"
     ]
    },
    {
     "ename": "KeyboardInterrupt",
     "evalue": "",
     "output_type": "error",
     "traceback": [
      "\u001b[1;31m---------------------------------------------------------------------------\u001b[0m",
      "\u001b[1;31mKeyboardInterrupt\u001b[0m                         Traceback (most recent call last)",
      "Cell \u001b[1;32mIn[59], line 2\u001b[0m\n\u001b[0;32m      1\u001b[0m \u001b[38;5;28;01mfor\u001b[39;00m page \u001b[38;5;129;01min\u001b[39;00m tqdm(pages[\u001b[38;5;241m0\u001b[39m:], desc\u001b[38;5;241m=\u001b[39m\u001b[38;5;124m'\u001b[39m\u001b[38;5;124mОбработка всех страниц\u001b[39m\u001b[38;5;124m'\u001b[39m, total\u001b[38;5;241m=\u001b[39m\u001b[38;5;28mlen\u001b[39m(pages)):\n\u001b[1;32m----> 2\u001b[0m \t\u001b[43mparse_page\u001b[49m\u001b[43m(\u001b[49m\u001b[43mpage\u001b[49m\u001b[43m)\u001b[49m\n",
      "Cell \u001b[1;32mIn[58], line 16\u001b[0m, in \u001b[0;36mparse_page\u001b[1;34m(page)\u001b[0m\n\u001b[0;32m     12\u001b[0m \t\u001b[38;5;28;01mreturn\u001b[39;00m\n\u001b[0;32m     14\u001b[0m parsed \u001b[38;5;241m=\u001b[39m wtp\u001b[38;5;241m.\u001b[39mparse(text)\n\u001b[1;32m---> 16\u001b[0m \u001b[43mparse_to_markdown\u001b[49m\u001b[43m(\u001b[49m\u001b[43mparsed\u001b[49m\u001b[43m,\u001b[49m\u001b[43mtitle\u001b[49m\u001b[43m,\u001b[49m\u001b[43mfilename\u001b[49m\u001b[43m)\u001b[49m\n",
      "Cell \u001b[1;32mIn[52], line 77\u001b[0m, in \u001b[0;36mparse_to_markdown\u001b[1;34m(parsed, title, filename)\u001b[0m\n\u001b[0;32m     74\u001b[0m doc \u001b[38;5;241m=\u001b[39m Document()\n\u001b[0;32m     75\u001b[0m doc\u001b[38;5;241m.\u001b[39madd_heading(\u001b[38;5;124mf\u001b[39m\u001b[38;5;124m\"\u001b[39m\u001b[38;5;124mСодержимое страницы: \u001b[39m\u001b[38;5;132;01m{\u001b[39;00mtitle\u001b[38;5;132;01m}\u001b[39;00m\u001b[38;5;124m\"\u001b[39m, level \u001b[38;5;241m=\u001b[39m \u001b[38;5;241m1\u001b[39m)\n\u001b[1;32m---> 77\u001b[0m \u001b[38;5;28;01mwith\u001b[39;00m \u001b[38;5;28;43mopen\u001b[39;49m\u001b[43m(\u001b[49m\u001b[43mos\u001b[49m\u001b[38;5;241;43m.\u001b[39;49m\u001b[43mpath\u001b[49m\u001b[38;5;241;43m.\u001b[39;49m\u001b[43mjoin\u001b[49m\u001b[43m(\u001b[49m\u001b[43moutput_dir\u001b[49m\u001b[43m,\u001b[49m\u001b[43m \u001b[49m\u001b[43mfilename\u001b[49m\u001b[43m)\u001b[49m\u001b[43m,\u001b[49m\u001b[38;5;124;43m\"\u001b[39;49m\u001b[38;5;124;43mw\u001b[39;49m\u001b[38;5;124;43m\"\u001b[39;49m\u001b[43m,\u001b[49m\u001b[43m \u001b[49m\u001b[43mencoding\u001b[49m\u001b[38;5;241;43m=\u001b[39;49m\u001b[38;5;124;43m\"\u001b[39;49m\u001b[38;5;124;43mutf-8\u001b[39;49m\u001b[38;5;124;43m\"\u001b[39;49m\u001b[43m)\u001b[49m \u001b[38;5;28;01mas\u001b[39;00m mdf:\n\u001b[0;32m     78\u001b[0m \tmdf\u001b[38;5;241m.\u001b[39mwrite(\u001b[38;5;124mf\u001b[39m\u001b[38;5;124m\"\u001b[39m\u001b[38;5;124m# Содержимое страницы: \u001b[39m\u001b[38;5;132;01m{\u001b[39;00mtitle\u001b[38;5;132;01m}\u001b[39;00m\u001b[38;5;124m\"\u001b[39m)\n\u001b[0;32m     80\u001b[0m \t\u001b[38;5;28;01mwhile\u001b[39;00m elements:\n",
      "File \u001b[1;32m~\\AppData\\Roaming\\Python\\Python313\\site-packages\\IPython\\core\\interactiveshell.py:324\u001b[0m, in \u001b[0;36m_modified_open\u001b[1;34m(file, *args, **kwargs)\u001b[0m\n\u001b[0;32m    317\u001b[0m \u001b[38;5;28;01mif\u001b[39;00m file \u001b[38;5;129;01min\u001b[39;00m {\u001b[38;5;241m0\u001b[39m, \u001b[38;5;241m1\u001b[39m, \u001b[38;5;241m2\u001b[39m}:\n\u001b[0;32m    318\u001b[0m     \u001b[38;5;28;01mraise\u001b[39;00m \u001b[38;5;167;01mValueError\u001b[39;00m(\n\u001b[0;32m    319\u001b[0m         \u001b[38;5;124mf\u001b[39m\u001b[38;5;124m\"\u001b[39m\u001b[38;5;124mIPython won\u001b[39m\u001b[38;5;124m'\u001b[39m\u001b[38;5;124mt let you open fd=\u001b[39m\u001b[38;5;132;01m{\u001b[39;00mfile\u001b[38;5;132;01m}\u001b[39;00m\u001b[38;5;124m by default \u001b[39m\u001b[38;5;124m\"\u001b[39m\n\u001b[0;32m    320\u001b[0m         \u001b[38;5;124m\"\u001b[39m\u001b[38;5;124mas it is likely to crash IPython. If you know what you are doing, \u001b[39m\u001b[38;5;124m\"\u001b[39m\n\u001b[0;32m    321\u001b[0m         \u001b[38;5;124m\"\u001b[39m\u001b[38;5;124myou can use builtins\u001b[39m\u001b[38;5;124m'\u001b[39m\u001b[38;5;124m open.\u001b[39m\u001b[38;5;124m\"\u001b[39m\n\u001b[0;32m    322\u001b[0m     )\n\u001b[1;32m--> 324\u001b[0m \u001b[38;5;28;01mreturn\u001b[39;00m \u001b[43mio_open\u001b[49m\u001b[43m(\u001b[49m\u001b[43mfile\u001b[49m\u001b[43m,\u001b[49m\u001b[43m \u001b[49m\u001b[38;5;241;43m*\u001b[39;49m\u001b[43margs\u001b[49m\u001b[43m,\u001b[49m\u001b[43m \u001b[49m\u001b[38;5;241;43m*\u001b[39;49m\u001b[38;5;241;43m*\u001b[39;49m\u001b[43mkwargs\u001b[49m\u001b[43m)\u001b[49m\n",
      "File \u001b[1;32m<frozen codecs>:189\u001b[0m, in \u001b[0;36m__init__\u001b[1;34m(self, errors)\u001b[0m\n",
      "\u001b[1;31mKeyboardInterrupt\u001b[0m: "
     ]
    }
   ],
   "source": [
    "for page in tqdm(pages[0:], desc='Обработка всех страниц', total=len(pages)):\n",
    "\tparse_page(page)"
   ]
  },
  {
   "cell_type": "code",
   "execution_count": null,
   "metadata": {},
   "outputs": [],
   "source": [
    "# Парсим этот пиздец\n",
    "with ThreadPoolExecutor(max_workers=10) as executor:\n",
    "\tlist(tqdm(executor.map(parse_page, pages), desc='Создание страниц:', total=len(pages)))"
   ]
  },
  {
   "cell_type": "code",
   "execution_count": null,
   "metadata": {},
   "outputs": [],
   "source": []
  }
 ],
 "metadata": {
  "kernelspec": {
   "display_name": "Python 3",
   "language": "python",
   "name": "python3"
  },
  "language_info": {
   "codemirror_mode": {
    "name": "ipython",
    "version": 3
   },
   "file_extension": ".py",
   "mimetype": "text/x-python",
   "name": "python",
   "nbconvert_exporter": "python",
   "pygments_lexer": "ipython3",
   "version": "3.13.0"
  }
 },
 "nbformat": 4,
 "nbformat_minor": 2
}
