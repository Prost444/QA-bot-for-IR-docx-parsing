{
  "cells": [
    {
      "cell_type": "code",
      "execution_count": 3,
      "metadata": {},
      "outputs": [
        {
          "name": "stdout",
          "output_type": "stream",
          "text": [
            "Collecting accelerate\n",
            "  Downloading accelerate-1.2.0-py3-none-any.whl.metadata (19 kB)\n",
            "Requirement already satisfied: numpy<3.0.0,>=1.17 in c:\\users\\user\\appdata\\local\\programs\\python\\python312\\lib\\site-packages (from accelerate) (2.0.2)\n",
            "Requirement already satisfied: packaging>=20.0 in c:\\users\\user\\appdata\\local\\programs\\python\\python312\\lib\\site-packages (from accelerate) (24.2)\n",
            "Requirement already satisfied: psutil in c:\\users\\user\\appdata\\local\\programs\\python\\python312\\lib\\site-packages (from accelerate) (6.1.0)\n",
            "Requirement already satisfied: pyyaml in c:\\users\\user\\appdata\\local\\programs\\python\\python312\\lib\\site-packages (from accelerate) (6.0.2)\n",
            "Requirement already satisfied: torch>=1.10.0 in c:\\users\\user\\appdata\\local\\programs\\python\\python312\\lib\\site-packages (from accelerate) (2.5.1+cu124)\n",
            "Requirement already satisfied: huggingface-hub>=0.21.0 in c:\\users\\user\\appdata\\local\\programs\\python\\python312\\lib\\site-packages (from accelerate) (0.26.2)\n",
            "Requirement already satisfied: safetensors>=0.4.3 in c:\\users\\user\\appdata\\local\\programs\\python\\python312\\lib\\site-packages (from accelerate) (0.4.5)\n",
            "Requirement already satisfied: filelock in c:\\users\\user\\appdata\\local\\programs\\python\\python312\\lib\\site-packages (from huggingface-hub>=0.21.0->accelerate) (3.13.1)\n",
            "Requirement already satisfied: fsspec>=2023.5.0 in c:\\users\\user\\appdata\\local\\programs\\python\\python312\\lib\\site-packages (from huggingface-hub>=0.21.0->accelerate) (2024.2.0)\n",
            "Requirement already satisfied: requests in c:\\users\\user\\appdata\\local\\programs\\python\\python312\\lib\\site-packages (from huggingface-hub>=0.21.0->accelerate) (2.32.3)\n",
            "Requirement already satisfied: tqdm>=4.42.1 in c:\\users\\user\\appdata\\local\\programs\\python\\python312\\lib\\site-packages (from huggingface-hub>=0.21.0->accelerate) (4.67.0)\n",
            "Requirement already satisfied: typing-extensions>=3.7.4.3 in c:\\users\\user\\appdata\\local\\programs\\python\\python312\\lib\\site-packages (from huggingface-hub>=0.21.0->accelerate) (4.12.2)\n",
            "Requirement already satisfied: networkx in c:\\users\\user\\appdata\\local\\programs\\python\\python312\\lib\\site-packages (from torch>=1.10.0->accelerate) (3.2.1)\n",
            "Requirement already satisfied: jinja2 in c:\\users\\user\\appdata\\local\\programs\\python\\python312\\lib\\site-packages (from torch>=1.10.0->accelerate) (3.1.3)\n",
            "Requirement already satisfied: setuptools in c:\\users\\user\\appdata\\local\\programs\\python\\python312\\lib\\site-packages (from torch>=1.10.0->accelerate) (70.0.0)\n",
            "Requirement already satisfied: sympy==1.13.1 in c:\\users\\user\\appdata\\local\\programs\\python\\python312\\lib\\site-packages (from torch>=1.10.0->accelerate) (1.13.1)\n",
            "Requirement already satisfied: mpmath<1.4,>=1.1.0 in c:\\users\\user\\appdata\\local\\programs\\python\\python312\\lib\\site-packages (from sympy==1.13.1->torch>=1.10.0->accelerate) (1.3.0)\n",
            "Requirement already satisfied: colorama in c:\\users\\user\\appdata\\local\\programs\\python\\python312\\lib\\site-packages (from tqdm>=4.42.1->huggingface-hub>=0.21.0->accelerate) (0.4.6)\n",
            "Requirement already satisfied: MarkupSafe>=2.0 in c:\\users\\user\\appdata\\local\\programs\\python\\python312\\lib\\site-packages (from jinja2->torch>=1.10.0->accelerate) (2.1.5)\n",
            "Requirement already satisfied: charset-normalizer<4,>=2 in c:\\users\\user\\appdata\\local\\programs\\python\\python312\\lib\\site-packages (from requests->huggingface-hub>=0.21.0->accelerate) (3.4.0)\n",
            "Requirement already satisfied: idna<4,>=2.5 in c:\\users\\user\\appdata\\local\\programs\\python\\python312\\lib\\site-packages (from requests->huggingface-hub>=0.21.0->accelerate) (3.10)\n",
            "Requirement already satisfied: urllib3<3,>=1.21.1 in c:\\users\\user\\appdata\\local\\programs\\python\\python312\\lib\\site-packages (from requests->huggingface-hub>=0.21.0->accelerate) (2.2.3)\n",
            "Requirement already satisfied: certifi>=2017.4.17 in c:\\users\\user\\appdata\\local\\programs\\python\\python312\\lib\\site-packages (from requests->huggingface-hub>=0.21.0->accelerate) (2024.8.30)\n",
            "Downloading accelerate-1.2.0-py3-none-any.whl (336 kB)\n",
            "Installing collected packages: accelerate\n",
            "Successfully installed accelerate-1.2.0\n",
            "Note: you may need to restart the kernel to use updated packages.\n"
          ]
        }
      ],
      "source": [
        "%pip install -U accelerate"
      ]
    },
    {
      "cell_type": "code",
      "execution_count": 11,
      "metadata": {
        "colab": {
          "base_uri": "https://localhost:8080/"
        },
        "id": "udicHLVBPL1-",
        "outputId": "f4de0c6a-bf58-4038-9bae-615dc8396d2c"
      },
      "outputs": [
        {
          "name": "stdout",
          "output_type": "stream",
          "text": [
            "cuda\n"
          ]
        }
      ],
      "source": [
        "from transformers import AutoTokenizer, EncoderDecoderModel, Seq2SeqTrainingArguments, Seq2SeqTrainer, PreTrainedTokenizerBase, GenerationConfig, AutoModelForCausalLM, AutoModel\n",
        "import safetensors\n",
        "import time\n",
        "import torch\n",
        "from torch import nn\n",
        "device = 'cuda' if torch.cuda.is_available() else 'cpu'\n",
        "print(device)"
      ]
    },
    {
      "cell_type": "code",
      "execution_count": 1,
      "metadata": {},
      "outputs": [
        {
          "name": "stdout",
          "output_type": "stream",
          "text": [
            "Ниже приведены данные о численности населения Слуцкого района по годам. Используя эту информацию, ответьте на вопрос в конце текста. Постарайтесь сформулировать ответ максимально точно и ясно.\n",
            "\n",
            "Контекст:\n",
            "Слуцкий район — административная единица в Минской области Республики Беларусь. Ниже представлена сводная таблица демографии района по годам.\n",
            "\n",
            "На 1 января 2023 года население района составляет 86 234 человек, в том числе в городских условиях проживают около 60 376 человек.\n",
            "\n",
            "1996 | 2001 | 2002 | 2003 | 2004 | 2005 | 2006 | 2007 | 2008 | 2009\n",
            "1996 | 2001 | 2002 | 2003 | 2004 | 2005 | 2006 | 2007 | 2008 | 2009\n",
            "106 000 | 103 594 | 102 598 | 101 596 | 100 403 | 99 293 | 97 847 | 96 937 | 96 335 | 96 003\n",
            "2010 | 2011 | 2012 | 2013 | 2014 | 2015 | 2016 | 2017 | 2018 | 2019\n",
            "94 866 | 94 057 | 93 196 | 92 930 | 92 591 | 92 379 | 92 100 | 92 684 | 91 059 | 89 791\n",
            "2020 | 2021 | 2022 | 2023 | 2024 |  |  |  |  |\n",
            "89 189 | 88 198 |  | 86 234 | 85 537 |  |  |  |  |\n",
            "\n",
            "Вопрос: Какова численность населения Слуцкого района в 2004 году?\n",
            "\n",
            "Ответ:\n",
            "В 2004 году численность населения Слуцкого района составила 86 234 человек.\n",
            "\n",
            "Вопрос: Как\n"
          ]
        }
      ],
      "source": [
        "from transformers import GPT2Tokenizer,GPT2TokenizerFast, GPT2LMHeadModel\n",
        "\n",
        "model_name_or_path = \"sberbank-ai/rugpt3large_based_on_gpt2\"\n",
        "tokenizer = GPT2Tokenizer.from_pretrained(model_name_or_path)\n",
        "model = GPT2LMHeadModel.from_pretrained(model_name_or_path).cuda()\n",
        "text = '''Ниже приведены данные о численности населения Слуцкого района по годам. Используя эту информацию, ответьте на вопрос в конце текста. Постарайтесь сформулировать ответ максимально точно и ясно.\n",
        "\n",
        "Контекст:\n",
        "%s\n",
        "\n",
        "%s'''%('''Слуцкий район — административная единица в Минской области Республики Беларусь. Ниже представлена сводная таблица демографии района по годам.\n",
        "\n",
        "На 1 января 2023 года население района составляет 86 234 человек, в том числе в городских условиях проживают около 60 376 человек.\n",
        "\n",
        "1996 | 2001 | 2002 | 2003 | 2004 | 2005 | 2006 | 2007 | 2008 | 2009\n",
        "1996 | 2001 | 2002 | 2003 | 2004 | 2005 | 2006 | 2007 | 2008 | 2009\n",
        "106 000 | 103 594 | 102 598 | 101 596 | 100 403 | 99 293 | 97 847 | 96 937 | 96 335 | 96 003\n",
        "2010 | 2011 | 2012 | 2013 | 2014 | 2015 | 2016 | 2017 | 2018 | 2019\n",
        "94 866 | 94 057 | 93 196 | 92 930 | 92 591 | 92 379 | 92 100 | 92 684 | 91 059 | 89 791\n",
        "2020 | 2021 | 2022 | 2023 | 2024 |  |  |  |  |\n",
        "89 189 | 88 198 |  | 86 234 | 85 537 |  |  |  |  |''','''Вопрос: Какова численность населения Слуцкого района в 2004 году?\n",
        "\n",
        "Ответ:''')\n",
        "input_ids = tokenizer.encode(text, return_tensors=\"pt\").cuda()\n",
        "out = model.generate(input_ids.cuda(),max_new_tokens=20)\n",
        "generated_text = list(map(tokenizer.decode, out))[0]\n",
        "print(generated_text)"
      ]
    },
    {
      "cell_type": "code",
      "execution_count": 2,
      "metadata": {
        "colab": {
          "base_uri": "https://localhost:8080/",
          "height": 67,
          "referenced_widgets": [
            "2d78cd9d2cba41c2aa89725270589725",
            "cf316959461d47e6842e1186fe0825a4",
            "a2c3747861e44c93b959a76f03fba3a7",
            "178392d29b1b4f3ca92bc7c7bb712180",
            "a2a8d13567534b87a684721e7dce4c8f",
            "17fca229089b4ff6a16737b959be208f",
            "22c297dfc3d34d0087e0fb44db4c56c5",
            "f536c91d54034c6aae4dab2b81cd1c34",
            "646f9cee4b664b80b0807280f11a9fa2",
            "f253e50ed0b84f84ac4ca02192b88461",
            "dfda801f9ef04db787a0ea081d7364cc"
          ]
        },
        "id": "QAfVI3AKPC0j",
        "outputId": "60ea4971-6be5-4dc3-8b11-68d996d1ab25"
      },
      "outputs": [
        {
          "data": {
            "application/vnd.jupyter.widget-view+json": {
              "model_id": "6aadbac940ac4c4fb70c5c3af4efff1a",
              "version_major": 2,
              "version_minor": 0
            },
            "text/plain": [
              "Loading checkpoint shards:   0%|          | 0/4 [00:00<?, ?it/s]"
            ]
          },
          "metadata": {},
          "output_type": "display_data"
        },
        {
          "name": "stdout",
          "output_type": "stream",
          "text": [
            "RESPONSE ['Население Слуцкого района в 2004 году составляло 100 403 человека (источник: таблица).']\n",
            "time to answer:  81.67034935951233\n"
          ]
        }
      ],
      "source": [
        "from transformers import AutoTokenizer, EncoderDecoderModel, Seq2SeqTrainingArguments, Seq2SeqTrainer, PreTrainedTokenizerBase, GenerationConfig, AutoModelForCausalLM, AutoModel\n",
        "import safetensors\n",
        "import time\n",
        "import torch\n",
        "from torch import nn\n",
        "\n",
        "device = torch.device(\"cuda\" if torch.cuda.is_available() else \"cpu\")\n",
        "\n",
        "model_name = \"t-tech/T-lite-it-1.0\"\n",
        "tokenizer = AutoTokenizer.from_pretrained(model_name)\n",
        "model = AutoModelForCausalLM.from_pretrained(\n",
        "    model_name,\n",
        "    torch_dtype=\"auto\",\n",
        "    device_map=None\n",
        ").to(device)\n",
        "t0 = time.time()\n",
        "\n",
        "# prompt = \"Напиши стих про машинное обучение\"\n",
        "# messages = [\n",
        "#     {\"role\": \"system\", \"content\": \"Ты T-lite, виртуальный ассистент в Т-Технологии. Твоя задача - быть полезным диалоговым ассистентом и генерировать стихи про негров.\"},\n",
        "#     {\"role\": \"user\", \"content\": prompt}\n",
        "# ]\n",
        "def llm_answer(model, tokenizer, context, question):\n",
        "    prompt_in_chat_format = [\n",
        "        {\n",
        "            \"role\": \"system\",\n",
        "            \"content\": \"\"\"Using the information contained in the context,\n",
        "    give a comprehensive answer to the question.\n",
        "    Respond only to the question asked, response should be concise and relevant to the question.\n",
        "    Provide the number of the source document when relevant.\n",
        "    If the answer cannot be deduced from the context, give information based on your own knowledge \"\"\",\n",
        "        },\n",
        "        {\n",
        "            \"role\": \"user\",\n",
        "            \"content\": f\"\"\"Context:\n",
        "    {context}\n",
        "    ---\n",
        "    Now here is the question you need to answer.\n",
        "\n",
        "    Question: {question}\"\"\",\n",
        "        },\n",
        "    ]\n",
        "    text = tokenizer.apply_chat_template(\n",
        "        prompt_in_chat_format,\n",
        "        tokenize=False,\n",
        "        add_generation_prompt=True\n",
        "    )\n",
        "    model_inputs = tokenizer([text], return_tensors=\"pt\").to(device)\n",
        "\n",
        "    generated_ids = model.generate(\n",
        "        **model_inputs,\n",
        "        max_new_tokens=256\n",
        "    )\n",
        "    generated_ids = [\n",
        "        output_ids[len(input_ids):] for input_ids, output_ids in zip(model_inputs.input_ids, generated_ids)\n",
        "    ]\n",
        "\n",
        "    response = tokenizer.batch_decode(generated_ids, skip_special_tokens=True)\n",
        "    print('RESPONSE', response)\n",
        "    response = response[0]\n",
        "\n",
        "    return response\n"
      ]
    },
    {
      "cell_type": "code",
      "execution_count": 3,
      "metadata": {},
      "outputs": [
        {
          "name": "stdout",
          "output_type": "stream",
          "text": [
            "RESPONSE ['На 31 декабря 2024 года государственный долг США составил $35,000,000,000,000. Отношение долга к ВВП составило 129,8%. (Источник: представленная таблица)']\n"
          ]
        },
        {
          "data": {
            "text/plain": [
              "'На 31 декабря 2024 года государственный долг США составил $35,000,000,000,000. Отношение долга к ВВП составило 129,8%. (Источник: представленная таблица)'"
            ]
          },
          "execution_count": 3,
          "metadata": {},
          "output_type": "execute_result"
        }
      ],
      "source": [
        "context = '''\n",
        "Государственный долг США\n",
        "15 ноября 2024 года сумма государственного долга США впервые в истории превысила $36 трлн.\n",
        "История\n",
        "Историческая динамика долга\n",
        "Госдолг США по годам на 31 декабря\n",
        "Год | Госдолг США, млрд $ | ВВП, млрд $ | Доля госдолга от ВВП, %\n",
        "Год | Госдолг США, млрд $ | ВВП, млрд $ | Доля госдолга от ВВП, %\n",
        "1910 | 2,7 | 33,2 | 8,1\n",
        "1920 | 26,0 | 89,0 | 29,2\n",
        "1930 | 16,2 | 98,4 | 16,5\n",
        "1940 | 50,7 | 98,2 | 51,6\n",
        "1950 | 256,9 | 279,0 | 94,0\n",
        "1960 | 290,5 | 535,1 | 54,3\n",
        "1970 | 380,9 | 1049,1 | 36,3\n",
        "1980 | 909,0 | 2796,8 | 32,5\n",
        "1990 | 3206,3 | 5914,6 | 54,2\n",
        "2000 | 5628,7 | 10148,2 | 55,5\n",
        "2010 | 13 528,7 | 14 798,5 | 91,4\n",
        "2017 | 20 164,0 | 19 362,1 | 104,1\n",
        "2020 | 26 000,0 | 20 600,0 | 126,2\n",
        "2022 | 31 000,0 | 23 000,0 | 134,8\n",
        "2024 | 35 000,0 | 26 940,0 | 129,8'''\n",
        "question = \"Всю информация о госдолге США на 2024 год\"\n",
        "ans = llm_answer(model, tokenizer, context, question)\n",
        "ans"
      ]
    }
  ],
  "metadata": {
    "accelerator": "GPU",
    "colab": {
      "gpuType": "T4",
      "provenance": []
    },
    "kernelspec": {
      "display_name": "Python 3",
      "name": "python3"
    },
    "language_info": {
      "codemirror_mode": {
        "name": "ipython",
        "version": 3
      },
      "file_extension": ".py",
      "mimetype": "text/x-python",
      "name": "python",
      "nbconvert_exporter": "python",
      "pygments_lexer": "ipython3",
      "version": "3.12.7"
    },
    "widgets": {
      "application/vnd.jupyter.widget-state+json": {
        "178392d29b1b4f3ca92bc7c7bb712180": {
          "model_module": "@jupyter-widgets/controls",
          "model_module_version": "1.5.0",
          "model_name": "HTMLModel",
          "state": {
            "_dom_classes": [],
            "_model_module": "@jupyter-widgets/controls",
            "_model_module_version": "1.5.0",
            "_model_name": "HTMLModel",
            "_view_count": null,
            "_view_module": "@jupyter-widgets/controls",
            "_view_module_version": "1.5.0",
            "_view_name": "HTMLView",
            "description": "",
            "description_tooltip": null,
            "layout": "IPY_MODEL_f253e50ed0b84f84ac4ca02192b88461",
            "placeholder": "​",
            "style": "IPY_MODEL_dfda801f9ef04db787a0ea081d7364cc",
            "value": " 4/4 [00:01&lt;00:00,  1.54it/s]"
          }
        },
        "17fca229089b4ff6a16737b959be208f": {
          "model_module": "@jupyter-widgets/base",
          "model_module_version": "1.2.0",
          "model_name": "LayoutModel",
          "state": {
            "_model_module": "@jupyter-widgets/base",
            "_model_module_version": "1.2.0",
            "_model_name": "LayoutModel",
            "_view_count": null,
            "_view_module": "@jupyter-widgets/base",
            "_view_module_version": "1.2.0",
            "_view_name": "LayoutView",
            "align_content": null,
            "align_items": null,
            "align_self": null,
            "border": null,
            "bottom": null,
            "display": null,
            "flex": null,
            "flex_flow": null,
            "grid_area": null,
            "grid_auto_columns": null,
            "grid_auto_flow": null,
            "grid_auto_rows": null,
            "grid_column": null,
            "grid_gap": null,
            "grid_row": null,
            "grid_template_areas": null,
            "grid_template_columns": null,
            "grid_template_rows": null,
            "height": null,
            "justify_content": null,
            "justify_items": null,
            "left": null,
            "margin": null,
            "max_height": null,
            "max_width": null,
            "min_height": null,
            "min_width": null,
            "object_fit": null,
            "object_position": null,
            "order": null,
            "overflow": null,
            "overflow_x": null,
            "overflow_y": null,
            "padding": null,
            "right": null,
            "top": null,
            "visibility": null,
            "width": null
          }
        },
        "22c297dfc3d34d0087e0fb44db4c56c5": {
          "model_module": "@jupyter-widgets/controls",
          "model_module_version": "1.5.0",
          "model_name": "DescriptionStyleModel",
          "state": {
            "_model_module": "@jupyter-widgets/controls",
            "_model_module_version": "1.5.0",
            "_model_name": "DescriptionStyleModel",
            "_view_count": null,
            "_view_module": "@jupyter-widgets/base",
            "_view_module_version": "1.2.0",
            "_view_name": "StyleView",
            "description_width": ""
          }
        },
        "2d78cd9d2cba41c2aa89725270589725": {
          "model_module": "@jupyter-widgets/controls",
          "model_module_version": "1.5.0",
          "model_name": "HBoxModel",
          "state": {
            "_dom_classes": [],
            "_model_module": "@jupyter-widgets/controls",
            "_model_module_version": "1.5.0",
            "_model_name": "HBoxModel",
            "_view_count": null,
            "_view_module": "@jupyter-widgets/controls",
            "_view_module_version": "1.5.0",
            "_view_name": "HBoxView",
            "box_style": "",
            "children": [
              "IPY_MODEL_cf316959461d47e6842e1186fe0825a4",
              "IPY_MODEL_a2c3747861e44c93b959a76f03fba3a7",
              "IPY_MODEL_178392d29b1b4f3ca92bc7c7bb712180"
            ],
            "layout": "IPY_MODEL_a2a8d13567534b87a684721e7dce4c8f"
          }
        },
        "646f9cee4b664b80b0807280f11a9fa2": {
          "model_module": "@jupyter-widgets/controls",
          "model_module_version": "1.5.0",
          "model_name": "ProgressStyleModel",
          "state": {
            "_model_module": "@jupyter-widgets/controls",
            "_model_module_version": "1.5.0",
            "_model_name": "ProgressStyleModel",
            "_view_count": null,
            "_view_module": "@jupyter-widgets/base",
            "_view_module_version": "1.2.0",
            "_view_name": "StyleView",
            "bar_color": null,
            "description_width": ""
          }
        },
        "a2a8d13567534b87a684721e7dce4c8f": {
          "model_module": "@jupyter-widgets/base",
          "model_module_version": "1.2.0",
          "model_name": "LayoutModel",
          "state": {
            "_model_module": "@jupyter-widgets/base",
            "_model_module_version": "1.2.0",
            "_model_name": "LayoutModel",
            "_view_count": null,
            "_view_module": "@jupyter-widgets/base",
            "_view_module_version": "1.2.0",
            "_view_name": "LayoutView",
            "align_content": null,
            "align_items": null,
            "align_self": null,
            "border": null,
            "bottom": null,
            "display": null,
            "flex": null,
            "flex_flow": null,
            "grid_area": null,
            "grid_auto_columns": null,
            "grid_auto_flow": null,
            "grid_auto_rows": null,
            "grid_column": null,
            "grid_gap": null,
            "grid_row": null,
            "grid_template_areas": null,
            "grid_template_columns": null,
            "grid_template_rows": null,
            "height": null,
            "justify_content": null,
            "justify_items": null,
            "left": null,
            "margin": null,
            "max_height": null,
            "max_width": null,
            "min_height": null,
            "min_width": null,
            "object_fit": null,
            "object_position": null,
            "order": null,
            "overflow": null,
            "overflow_x": null,
            "overflow_y": null,
            "padding": null,
            "right": null,
            "top": null,
            "visibility": null,
            "width": null
          }
        },
        "a2c3747861e44c93b959a76f03fba3a7": {
          "model_module": "@jupyter-widgets/controls",
          "model_module_version": "1.5.0",
          "model_name": "FloatProgressModel",
          "state": {
            "_dom_classes": [],
            "_model_module": "@jupyter-widgets/controls",
            "_model_module_version": "1.5.0",
            "_model_name": "FloatProgressModel",
            "_view_count": null,
            "_view_module": "@jupyter-widgets/controls",
            "_view_module_version": "1.5.0",
            "_view_name": "ProgressView",
            "bar_style": "success",
            "description": "",
            "description_tooltip": null,
            "layout": "IPY_MODEL_f536c91d54034c6aae4dab2b81cd1c34",
            "max": 4,
            "min": 0,
            "orientation": "horizontal",
            "style": "IPY_MODEL_646f9cee4b664b80b0807280f11a9fa2",
            "value": 4
          }
        },
        "cf316959461d47e6842e1186fe0825a4": {
          "model_module": "@jupyter-widgets/controls",
          "model_module_version": "1.5.0",
          "model_name": "HTMLModel",
          "state": {
            "_dom_classes": [],
            "_model_module": "@jupyter-widgets/controls",
            "_model_module_version": "1.5.0",
            "_model_name": "HTMLModel",
            "_view_count": null,
            "_view_module": "@jupyter-widgets/controls",
            "_view_module_version": "1.5.0",
            "_view_name": "HTMLView",
            "description": "",
            "description_tooltip": null,
            "layout": "IPY_MODEL_17fca229089b4ff6a16737b959be208f",
            "placeholder": "​",
            "style": "IPY_MODEL_22c297dfc3d34d0087e0fb44db4c56c5",
            "value": "Loading checkpoint shards: 100%"
          }
        },
        "dfda801f9ef04db787a0ea081d7364cc": {
          "model_module": "@jupyter-widgets/controls",
          "model_module_version": "1.5.0",
          "model_name": "DescriptionStyleModel",
          "state": {
            "_model_module": "@jupyter-widgets/controls",
            "_model_module_version": "1.5.0",
            "_model_name": "DescriptionStyleModel",
            "_view_count": null,
            "_view_module": "@jupyter-widgets/base",
            "_view_module_version": "1.2.0",
            "_view_name": "StyleView",
            "description_width": ""
          }
        },
        "f253e50ed0b84f84ac4ca02192b88461": {
          "model_module": "@jupyter-widgets/base",
          "model_module_version": "1.2.0",
          "model_name": "LayoutModel",
          "state": {
            "_model_module": "@jupyter-widgets/base",
            "_model_module_version": "1.2.0",
            "_model_name": "LayoutModel",
            "_view_count": null,
            "_view_module": "@jupyter-widgets/base",
            "_view_module_version": "1.2.0",
            "_view_name": "LayoutView",
            "align_content": null,
            "align_items": null,
            "align_self": null,
            "border": null,
            "bottom": null,
            "display": null,
            "flex": null,
            "flex_flow": null,
            "grid_area": null,
            "grid_auto_columns": null,
            "grid_auto_flow": null,
            "grid_auto_rows": null,
            "grid_column": null,
            "grid_gap": null,
            "grid_row": null,
            "grid_template_areas": null,
            "grid_template_columns": null,
            "grid_template_rows": null,
            "height": null,
            "justify_content": null,
            "justify_items": null,
            "left": null,
            "margin": null,
            "max_height": null,
            "max_width": null,
            "min_height": null,
            "min_width": null,
            "object_fit": null,
            "object_position": null,
            "order": null,
            "overflow": null,
            "overflow_x": null,
            "overflow_y": null,
            "padding": null,
            "right": null,
            "top": null,
            "visibility": null,
            "width": null
          }
        },
        "f536c91d54034c6aae4dab2b81cd1c34": {
          "model_module": "@jupyter-widgets/base",
          "model_module_version": "1.2.0",
          "model_name": "LayoutModel",
          "state": {
            "_model_module": "@jupyter-widgets/base",
            "_model_module_version": "1.2.0",
            "_model_name": "LayoutModel",
            "_view_count": null,
            "_view_module": "@jupyter-widgets/base",
            "_view_module_version": "1.2.0",
            "_view_name": "LayoutView",
            "align_content": null,
            "align_items": null,
            "align_self": null,
            "border": null,
            "bottom": null,
            "display": null,
            "flex": null,
            "flex_flow": null,
            "grid_area": null,
            "grid_auto_columns": null,
            "grid_auto_flow": null,
            "grid_auto_rows": null,
            "grid_column": null,
            "grid_gap": null,
            "grid_row": null,
            "grid_template_areas": null,
            "grid_template_columns": null,
            "grid_template_rows": null,
            "height": null,
            "justify_content": null,
            "justify_items": null,
            "left": null,
            "margin": null,
            "max_height": null,
            "max_width": null,
            "min_height": null,
            "min_width": null,
            "object_fit": null,
            "object_position": null,
            "order": null,
            "overflow": null,
            "overflow_x": null,
            "overflow_y": null,
            "padding": null,
            "right": null,
            "top": null,
            "visibility": null,
            "width": null
          }
        }
      }
    }
  },
  "nbformat": 4,
  "nbformat_minor": 0
}
