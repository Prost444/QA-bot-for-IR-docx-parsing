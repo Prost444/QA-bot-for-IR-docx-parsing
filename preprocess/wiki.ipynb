{
 "cells": [
  {
   "cell_type": "code",
   "execution_count": null,
   "metadata": {},
   "outputs": [],
   "source": [
    "#%pip install wikitextparser\n",
    "\n",
    "import xml.etree.ElementTree as ET\n",
    "import wikitextparser as wtp\n",
    "from docx import Document\n",
    "from docx.enum.text import WD_ALIGN_PARAGRAPH\n",
    "from tqdm import tqdm\n",
    "import pandas as pd\n",
    "from heapq import heappush,heappop\n",
    "import os\n",
    "from concurrent.futures import ThreadPoolExecutor"
   ]
  },
  {
   "cell_type": "code",
   "execution_count": 2,
   "metadata": {},
   "outputs": [
    {
     "data": {
      "text/plain": [
       "130478"
      ]
     },
     "execution_count": 2,
     "metadata": {},
     "output_type": "execute_result"
    }
   ],
   "source": [
    "tree = ET.parse('ruwiki-20241201-pages-articles-multistream1.xml')\n",
    "root = tree.getroot()\n",
    "len(root)"
   ]
  },
  {
   "cell_type": "code",
   "execution_count": 3,
   "metadata": {},
   "outputs": [],
   "source": [
    "prefix = '{http://www.mediawiki.org/xml/export-0.11/}'"
   ]
  },
  {
   "cell_type": "code",
   "execution_count": 13,
   "metadata": {},
   "outputs": [],
   "source": [
    "# Выходная папка\n",
    "output_dir = \"docx2json_example\"\n",
    "\n",
    "if not os.path.exists(output_dir):\n",
    "\tos.makedirs(output_dir)\n",
    "\t"
   ]
  },
  {
   "cell_type": "code",
   "execution_count": null,
   "metadata": {},
   "outputs": [
    {
     "data": {
      "text/plain": [
       "'\\nfor i in range(len(pages)):\\n\\ttext = pages[i].find(f\"{prefix}revision\").find(f\"{prefix}text\").text\\n\\tif(text and text.find(\"{|\")):\\n\\t\\tindexies.append(i)\\n'"
      ]
     },
     "execution_count": 13,
     "metadata": {},
     "output_type": "execute_result"
    }
   ],
   "source": [
    "# Преобработка\n",
    "\n",
    "indexies = []\n",
    "\n",
    "for i in range(len(pages)):\n",
    "\ttext = pages[i].find(f\"{prefix}revision\").find(f\"{prefix}text\").text\n",
    "\tif(text and text.find(\"{|\")):\n",
    "\t\tindexies.append(i)\n"
   ]
  },
  {
   "cell_type": "code",
   "execution_count": null,
   "metadata": {},
   "outputs": [],
   "source": [
    "def parse_to_docx(parsed : wtp.WikiText, title : str, filename : str) -> None:\n",
    "\telements = []\n",
    "\n",
    "\tsections,tables,lists = parsed.get_sections(),parsed.get_tables(),parsed.get_lists()\n",
    "\n",
    "\tfor i in range(len(sections)):\n",
    "\t\theappush(elements,(sections[i].span[0],\"section\",i))\n",
    "\n",
    "\tfor i in range(len(tables)):\n",
    "\t\theappush(elements,(tables[i].span[0],\"table\",i))\n",
    "\n",
    "\tfor i in range(len(lists)):\n",
    "\t\theappush(elements,(lists[i].span[0],\"list\",i))\n",
    "\t\t\n",
    "\tdoc = Document()\n",
    "\tdoc.add_heading(f\"Содержимое страницы: {title}\", level = 1)\n",
    "\n",
    "\twhile elements:\n",
    "\t\telem = heappop(elements)\n",
    "\n",
    "\t\tif elem[1] == \"section\":\n",
    "\t\t\tsec = sections[elem[2]]\n",
    "\n",
    "\t\t\tif sec.title:\n",
    "\t\t\t\tsecText = wtp.remove_markup(sec.title).strip()\n",
    "\t\t\t\tif secText:\n",
    "\t\t\t\t\tdoc.add_heading(secText, level=sec.level)\n",
    "\t\tif elem[1] == \"table\":\n",
    "\t\t\ttbl = tables[elem[2]]\n",
    "\n",
    "\t\t\tdata = tbl.data()\n",
    "\n",
    "\t\t\tif len(data) <= 0 or len(data[0]) <= 1:\n",
    "\t\t\t\tcontinue\n",
    "\n",
    "\t\t\ttable = doc.add_table(rows=len(data), cols=len(data[0]))\n",
    "\n",
    "\t\t\tdoc.add_paragraph(f\"Таблица. {tbl.caption}\").alignment = WD_ALIGN_PARAGRAPH.CENTER\n",
    "\n",
    "\t\t\tfor i, row in enumerate(data):\n",
    "\t\t\t\tfor j, cell in enumerate(row):\n",
    "\t\t\t\t\tif not cell:\n",
    "\t\t\t\t\t\tcontinue\n",
    "\n",
    "\t\t\t\t\tcellText = wtp.remove_markup(cell).strip()\n",
    "\n",
    "\t\t\t\t\tif cellText:\n",
    "\t\t\t\t\t\ttable.cell(i, j).text = cellText\n",
    "\t\telif elem[1] == \"list\":\n",
    "\t\t\tlst = lists[elem[2]]\n",
    "\n",
    "\t\t\tfor item in lst.items:\n",
    "\t\t\t\titemText = wtp.remove_markup(item).strip()\n",
    "\n",
    "\t\t\t\tif itemText:\n",
    "\t\t\t\t\tdoc.add_paragraph(itemText, style=\"List Bullet\")\n",
    "\n",
    "\tdoc.save(os.path.join(output_dir, filename))\n"
   ]
  },
  {
   "cell_type": "code",
   "execution_count": null,
   "metadata": {},
   "outputs": [],
   "source": [
    "def parse_to_json(parsed : wtp.WikiText, title : str, filename : str) -> None:\n",
    "\telements = []\n",
    "\n",
    "\tsections,tables,lists = parsed.get_sections(),parsed.get_tables(),parsed.get_lists()\n",
    "\n",
    "\tfor i in range(len(sections)):\n",
    "\t\theappush(elements,(sections[i].span[0],\"section\",i))\n",
    "\n",
    "\tfor i in range(len(tables)):\n",
    "\t\theappush(elements,(tables[i].span[0],\"table\",i))\n",
    "\n",
    "\tfor i in range(len(lists)):\n",
    "\t\theappush(elements,(lists[i].span[0],\"list\",i))\n",
    "\t\t\n",
    "\twith open(os.path.join(output_dir, filename),\"w\", encoding=\"utf-8\") as jf:\n",
    "\t\tdata = {\n",
    "\t\t\t\"title\": title,\n",
    "            \"sections\": [],\n",
    "            \"tables\": [],\n",
    "            \"lists\": []\n",
    "\t\t}\n",
    "\t\t\n",
    "\t\tjson.dump(data,jf)\n"
   ]
  },
  {
   "cell_type": "code",
   "execution_count": null,
   "metadata": {},
   "outputs": [],
   "source": [
    "def parse_to_markdown(parsed : wtp.WikiText, title : str, filename : str) -> None:\n",
    "\telements = []\n",
    "\n",
    "\tsections,tables,lists = parsed.get_sections(),parsed.get_tables(),parsed.get_lists()\n",
    "\n",
    "\tfor i in range(len(sections)):\n",
    "\t\theappush(elements,(sections[i].span[0],\"section\",i))\n",
    "\n",
    "\tfor i in range(len(tables)):\n",
    "\t\theappush(elements,(tables[i].span[0],\"table\",i))\n",
    "\n",
    "\tfor i in range(len(lists)):\n",
    "\t\theappush(elements,(lists[i].span[0],\"list\",i))\n",
    "\t\t\n",
    "\tdoc = Document()\n",
    "\tdoc.add_heading(f\"Содержимое страницы: {title}\", level = 1)\n",
    "\n",
    "\twith open(os.path.join(output_dir, filename),\"w\", encoding=\"utf-8\") as mdf:\n",
    "\t\tmdf.write(f\"# Содержимое страницы: {title}\")\n",
    "\t\t\n",
    "\t\twhile elements:\n",
    "\t\t\telem = heappop(elements)\n",
    "\n",
    "\t\t\tif elem[1] == \"section\":\n",
    "\t\t\t\tsec = sections[elem[2]]\n",
    "\n",
    "\t\t\t\tif sec.title:\n",
    "\t\t\t\t\tsecText = wtp.remove_markup(sec.title).strip()\n",
    "\t\t\t\t\tif secText:\n",
    "\t\t\t\t\t\tmdf.write(f\"{'#' * sec.level} {secText}\\n\")\n",
    "\t\t\tif elem[1] == \"table\":\n",
    "\t\t\t\ttbl = tables[elem[2]]\n",
    "\n",
    "\t\t\t\tdata = tbl.data()\n",
    "\n",
    "\t\t\t\tif(len(data) <= 0):\n",
    "\t\t\t\t\tcontinue\n",
    "\n",
    "\t\t\t\tdf = pd.DataFrame(data[1:],columns=data[0])\n",
    "\n",
    "\t\t\t\tdf.\n",
    "\t\t\t\tfor i, row in enumerate(data):\n",
    "\t\t\t\t\tfor j, cell in enumerate(row):\n",
    "\t\t\t\t\t\tif not cell:\n",
    "\t\t\t\t\t\t\tcontinue\n",
    "\n",
    "\t\t\t\t\t\tcellText = wtp.remove_markup(cell).strip()\n",
    "\n",
    "\t\t\t\t\t\tif cellText:\n",
    "\t\t\t\t\t\t\tif i == 0:\n",
    "\t\t\t\t\t\t\t\tdf.columns.values[j] = cellText\n",
    "\t\t\t\t\t\t\telse:\n",
    "\t\t\t\t\t\t\t\tdf.at[i-1,df.columns[j]] = cellText\n",
    "\n",
    "\t\t\t\tmdf.write(df.to_markdown(index=False))\n",
    "\t\t\t\tmdf.write('\\n')\n",
    "\t\t\telif elem[1] == \"list\":\n",
    "\t\t\t\tlst = lists[elem[2]]\n",
    "\n",
    "\t\t\t\tfor item in lst.items:\n",
    "\t\t\t\t\titemText = wtp.remove_markup(item).strip()\n",
    "\n",
    "\t\t\t\t\tif itemText:\n",
    "\t\t\t\t\t\tmdf.write(f\"- {itemText}\\n\")\n",
    "\n",
    "\t\tmdf.write(\"\\n---\\n\")"
   ]
  },
  {
   "cell_type": "code",
   "execution_count": 22,
   "metadata": {},
   "outputs": [],
   "source": [
    "def parse_page(page : ET.Element) -> None:\n",
    "\ttitle = page.find(f\"{prefix}title\").text\n",
    "\n",
    "\tfilename = \"\".join(x for x in title if x.isalnum()) + \".docx\"\n",
    "\n",
    "\ttext = page.find(f\"{prefix}revision\").find(f\"{prefix}text\").text #.split(\"\\n\")\n",
    "\n",
    "\tif not text:\n",
    "\t\treturn\n",
    "\n",
    "\tparsed = wtp.parse(text)\n",
    "\n",
    "\tparse_to_docx(parsed,title,filename)"
   ]
  },
  {
   "cell_type": "code",
   "execution_count": 23,
   "metadata": {},
   "outputs": [],
   "source": [
    "pages = root.findall(f'{prefix}page')\n",
    "\n",
    "parse_page(pages[1])\n",
    "parse_page(pages[2])"
   ]
  },
  {
   "cell_type": "code",
   "execution_count": null,
   "metadata": {},
   "outputs": [
    {
     "name": "stderr",
     "output_type": "stream",
     "text": [
      "Создание страниц:: 100%|██████████| 130477/130477 [1:22:33<00:00, 26.34it/s]  \n"
     ]
    }
   ],
   "source": [
    "# Парсим этот пиздец\n",
    "with ThreadPoolExecutor(max_workers=10) as executor:\n",
    "\tlist(tqdm(executor.map(parse_page, pages), desc='Создание страниц', total=len(pages)))"
   ]
  },
  {
   "cell_type": "code",
   "execution_count": 16,
   "metadata": {},
   "outputs": [
    {
     "name": "stdout",
     "output_type": "stream",
     "text": [
      "['[[Алитусский уезд]]']\n",
      "['[[Вильнюсский уезд]]']\n",
      "['[[Каунасский уезд]]']\n",
      "['[[Клайпедский уезд]]']\n",
      "['[[Мариямпольский уезд]]']\n",
      "['[[Паневежский уезд]]']\n",
      "['[[Таурагский уезд]]']\n",
      "['[[Тельшяйский уезд]]']\n",
      "['[[Утенский уезд]]']\n",
      "['[[Шяуляйский уезд]]']\n"
     ]
    },
    {
     "data": {
      "text/plain": [
       "'Список'"
      ]
     },
     "metadata": {},
     "output_type": "display_data"
    }
   ],
   "source": [
    "for page in root.findall(f'{prefix}page'):\n",
    "\ttitle = page.find(f\"{prefix}title\").text\n",
    "\n",
    "\ttext = page.find(f\"{prefix}revision\").find(f\"{prefix}text\").text #.split(\"\\n\")\n",
    "\n",
    "\tif not text:\n",
    "\t\tcontinue\n",
    "\n",
    "\tif text.find(\"#REDIRECT\") >= 0:\n",
    "\t\tcontinue\n",
    "\n",
    "\tparsed = wtp.parse(text)\n",
    "\n",
    "\tlists = parsed.get_lists()\n",
    "\n",
    "\tif not lists:\n",
    "\t\tcontinue\n",
    "\n",
    "\tstart = 0\n",
    "\n",
    "\tnew_text = \"\"\n",
    "\n",
    "\thtml_list_to_table = \"\"\n",
    "\n",
    "\tfor lst in parsed.get_lists():\n",
    "\t\tnew_text += text[start:lst.span[0]]\n",
    "\t\t\n",
    "\t\tlist_to_table_text = '{|class=\"wikitable\"\\n|+Список\\n'\n",
    "\n",
    "\t\tfor i in range(len(lst.items)):\n",
    "\t\t\tlist_to_table_text += f'|{lst.items[i]}\\n|-\\n'\n",
    "\n",
    "\t\tlist_to_table_text += \"|}\"\n",
    "\n",
    "\t\tnew_text += list_to_table_text\n",
    "\n",
    "\t\tstart = lst.span[1]\n",
    "\n",
    "\thtml_list_to_table += text[start:]\n",
    "\n",
    "\tnew_parsed = wtp.parse(new_text)\n",
    "\t\n",
    "\ttbl = new_parsed.get_tables()[0]\n",
    "\n",
    "\tfor row in tbl.data():\n",
    "\t\tprint(row)\n",
    "\n",
    "\tdisplay(tbl.caption)\n",
    "\n",
    "\tbreak\n"
   ]
  }
 ],
 "metadata": {
  "kernelspec": {
   "display_name": "Python 3",
   "language": "python",
   "name": "python3"
  },
  "language_info": {
   "codemirror_mode": {
    "name": "ipython",
    "version": 3
   },
   "file_extension": ".py",
   "mimetype": "text/x-python",
   "name": "python",
   "nbconvert_exporter": "python",
   "pygments_lexer": "ipython3",
   "version": "3.12.7"
  }
 },
 "nbformat": 4,
 "nbformat_minor": 2
}
