{
 "cells": [
  {
   "cell_type": "markdown",
   "metadata": {},
   "source": [
    "### Пример парсинга Docx в JSON\n",
    "\n",
    "1) Загрузи NLP модель\n",
    "\n",
    "```py\n",
    "nlp = spacy.load('<model>')\n",
    "```\n",
    "\n",
    "2) Загрузи свои отчёты в функцию:\n",
    "\n",
    "```py\n",
    "json_documents = docx_to_json([\n",
    "\t'doc1.docx',\n",
    "\t'doc2.docx',\n",
    "\t'doc3.docx',\n",
    "], nlp)\n",
    "```"
   ]
  },
  {
   "cell_type": "code",
   "execution_count": 1,
   "metadata": {},
   "outputs": [],
   "source": [
    "import spacy\n",
    "\n",
    "nlp = spacy.load('ru_core_news_sm')"
   ]
  },
  {
   "cell_type": "code",
   "execution_count": 2,
   "metadata": {},
   "outputs": [],
   "source": [
    "from docx2json import docx_to_json\n",
    "\n",
    "with open(\"output.json\",\"w\") as output:\n",
    "\toutput.write(docx_to_json([\"Россия.docx\",\"Литва.docx\"],nlp))"
   ]
  }
 ],
 "metadata": {
  "kernelspec": {
   "display_name": "Python 3",
   "language": "python",
   "name": "python3"
  },
  "language_info": {
   "codemirror_mode": {
    "name": "ipython",
    "version": 3
   },
   "file_extension": ".py",
   "mimetype": "text/x-python",
   "name": "python",
   "nbconvert_exporter": "python",
   "pygments_lexer": "ipython3",
   "version": "3.12.7"
  }
 },
 "nbformat": 4,
 "nbformat_minor": 2
}
